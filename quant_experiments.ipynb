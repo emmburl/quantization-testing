{
  "nbformat": 4,
  "nbformat_minor": 0,
  "metadata": {
    "colab": {
      "provenance": []
    },
    "kernelspec": {
      "name": "python3",
      "display_name": "Python 3"
    },
    "language_info": {
      "name": "python"
    },
    "widgets": {
      "application/vnd.jupyter.widget-state+json": {
        "fa0f90e25aed4d1d90c1928c2ec0cebb": {
          "model_module": "@jupyter-widgets/controls",
          "model_name": "VBoxModel",
          "model_module_version": "1.5.0",
          "state": {
            "_dom_classes": [],
            "_model_module": "@jupyter-widgets/controls",
            "_model_module_version": "1.5.0",
            "_model_name": "VBoxModel",
            "_view_count": null,
            "_view_module": "@jupyter-widgets/controls",
            "_view_module_version": "1.5.0",
            "_view_name": "VBoxView",
            "box_style": "",
            "children": [
              "IPY_MODEL_867f30e52a644fe090318a2b457d3213",
              "IPY_MODEL_a2bc231e5a0b479b8c7e533b4aa6338b",
              "IPY_MODEL_11835300fd8f41588dd4ccda09e01212",
              "IPY_MODEL_c0041ea3c49e46328ae4d62289c369e8",
              "IPY_MODEL_884668eb95df46478db1b9446a729669",
              "IPY_MODEL_4b9905bd67414831ad3c639edad6eda0",
              "IPY_MODEL_a9761e370b7147c88a6e8bfd5d4cc46a",
              "IPY_MODEL_cc8f6beb067d4d5e8ddf92bff662d09c",
              "IPY_MODEL_7228ba8c1f2b4acc9ac2e53b4cf1f609",
              "IPY_MODEL_5e47b4121ba047f2b27a4b1a46b0c9f7"
            ],
            "layout": "IPY_MODEL_58e9f521d73f489199ec4f0df3c25057"
          }
        },
        "867f30e52a644fe090318a2b457d3213": {
          "model_module": "@jupyter-widgets/controls",
          "model_name": "IntSliderModel",
          "model_module_version": "1.5.0",
          "state": {
            "_dom_classes": [],
            "_model_module": "@jupyter-widgets/controls",
            "_model_module_version": "1.5.0",
            "_model_name": "IntSliderModel",
            "_view_count": null,
            "_view_module": "@jupyter-widgets/controls",
            "_view_module_version": "1.5.0",
            "_view_name": "IntSliderView",
            "continuous_update": false,
            "description": "Number of Layers:",
            "description_tooltip": null,
            "disabled": false,
            "layout": "IPY_MODEL_05783d34aa45424e8c6fe8c77d36d664",
            "max": 10,
            "min": 1,
            "orientation": "horizontal",
            "readout": true,
            "readout_format": "d",
            "step": 1,
            "style": "IPY_MODEL_d1f524cec09448b5a3a716abc3f25811",
            "value": 3
          }
        },
        "a2bc231e5a0b479b8c7e533b4aa6338b": {
          "model_module": "@jupyter-widgets/controls",
          "model_name": "IntSliderModel",
          "model_module_version": "1.5.0",
          "state": {
            "_dom_classes": [],
            "_model_module": "@jupyter-widgets/controls",
            "_model_module_version": "1.5.0",
            "_model_name": "IntSliderModel",
            "_view_count": null,
            "_view_module": "@jupyter-widgets/controls",
            "_view_module_version": "1.5.0",
            "_view_name": "IntSliderView",
            "continuous_update": false,
            "description": "Nodes per Layer:",
            "description_tooltip": null,
            "disabled": false,
            "layout": "IPY_MODEL_2884a09cbefd4c02a406b5e7c3e80d69",
            "max": 256,
            "min": 1,
            "orientation": "horizontal",
            "readout": true,
            "readout_format": "d",
            "step": 16,
            "style": "IPY_MODEL_379c62f9874c48008bb7718339cb0481",
            "value": 4
          }
        },
        "11835300fd8f41588dd4ccda09e01212": {
          "model_module": "@jupyter-widgets/controls",
          "model_name": "DropdownModel",
          "model_module_version": "1.5.0",
          "state": {
            "_dom_classes": [],
            "_model_module": "@jupyter-widgets/controls",
            "_model_module_version": "1.5.0",
            "_model_name": "DropdownModel",
            "_options_labels": [
              "bimodal_gaussian",
              "spiral"
            ],
            "_view_count": null,
            "_view_module": "@jupyter-widgets/controls",
            "_view_module_version": "1.5.0",
            "_view_name": "DropdownView",
            "description": "Dataset Type:",
            "description_tooltip": null,
            "disabled": false,
            "index": 1,
            "layout": "IPY_MODEL_8b40eda1c5304580a0cedf09ab197304",
            "style": "IPY_MODEL_36e0d10f42bd4e3a85cda65458ae3e3a"
          }
        },
        "c0041ea3c49e46328ae4d62289c369e8": {
          "model_module": "@jupyter-widgets/controls",
          "model_name": "IntTextModel",
          "model_module_version": "1.5.0",
          "state": {
            "_dom_classes": [],
            "_model_module": "@jupyter-widgets/controls",
            "_model_module_version": "1.5.0",
            "_model_name": "IntTextModel",
            "_view_count": null,
            "_view_module": "@jupyter-widgets/controls",
            "_view_module_version": "1.5.0",
            "_view_name": "IntTextView",
            "continuous_update": false,
            "description": "Number of Training Samples:",
            "description_tooltip": null,
            "disabled": false,
            "layout": "IPY_MODEL_1b799c2dae514e29936f877360fd0739",
            "step": 1,
            "style": "IPY_MODEL_7ee0a6804665400aaf2860febdc00b5f",
            "value": 1000
          }
        },
        "884668eb95df46478db1b9446a729669": {
          "model_module": "@jupyter-widgets/controls",
          "model_name": "IntTextModel",
          "model_module_version": "1.5.0",
          "state": {
            "_dom_classes": [],
            "_model_module": "@jupyter-widgets/controls",
            "_model_module_version": "1.5.0",
            "_model_name": "IntTextModel",
            "_view_count": null,
            "_view_module": "@jupyter-widgets/controls",
            "_view_module_version": "1.5.0",
            "_view_name": "IntTextView",
            "continuous_update": false,
            "description": "Number of Testing Samples:",
            "description_tooltip": null,
            "disabled": false,
            "layout": "IPY_MODEL_e26c74aa646549b0851ecba949bad7d1",
            "step": 1,
            "style": "IPY_MODEL_3d0c75b0e62047cf9f6673580fa54c66",
            "value": 1000
          }
        },
        "4b9905bd67414831ad3c639edad6eda0": {
          "model_module": "@jupyter-widgets/controls",
          "model_name": "DropdownModel",
          "model_module_version": "1.5.0",
          "state": {
            "_dom_classes": [],
            "_model_module": "@jupyter-widgets/controls",
            "_model_module_version": "1.5.0",
            "_model_name": "DropdownModel",
            "_options_labels": [
              "4",
              "8",
              "16",
              "32"
            ],
            "_view_count": null,
            "_view_module": "@jupyter-widgets/controls",
            "_view_module_version": "1.5.0",
            "_view_name": "DropdownView",
            "description": "Batch Size:",
            "description_tooltip": null,
            "disabled": false,
            "index": 1,
            "layout": "IPY_MODEL_e9248a29214e40a5abd724ac40e65406",
            "style": "IPY_MODEL_9eace2fa05a44d19acda0952640ab035"
          }
        },
        "a9761e370b7147c88a6e8bfd5d4cc46a": {
          "model_module": "@jupyter-widgets/controls",
          "model_name": "FloatTextModel",
          "model_module_version": "1.5.0",
          "state": {
            "_dom_classes": [],
            "_model_module": "@jupyter-widgets/controls",
            "_model_module_version": "1.5.0",
            "_model_name": "FloatTextModel",
            "_view_count": null,
            "_view_module": "@jupyter-widgets/controls",
            "_view_module_version": "1.5.0",
            "_view_name": "FloatTextView",
            "continuous_update": false,
            "description": "Learning Rate:",
            "description_tooltip": null,
            "disabled": false,
            "layout": "IPY_MODEL_b359d2b0dab64f648be2e5d944dceace",
            "step": null,
            "style": "IPY_MODEL_36baf6bcc84a43b39157a3af42a09ea7",
            "value": 0.03
          }
        },
        "cc8f6beb067d4d5e8ddf92bff662d09c": {
          "model_module": "@jupyter-widgets/controls",
          "model_name": "DropdownModel",
          "model_module_version": "1.5.0",
          "state": {
            "_dom_classes": [],
            "_model_module": "@jupyter-widgets/controls",
            "_model_module_version": "1.5.0",
            "_model_name": "DropdownModel",
            "_options_labels": [
              "fp32",
              "fp16"
            ],
            "_view_count": null,
            "_view_module": "@jupyter-widgets/controls",
            "_view_module_version": "1.5.0",
            "_view_name": "DropdownView",
            "description": "Precision:",
            "description_tooltip": null,
            "disabled": false,
            "index": 0,
            "layout": "IPY_MODEL_c3bff2cd96464757b3a5fbf39a11047e",
            "style": "IPY_MODEL_2f149bbd38984b059f986ded699b3f02"
          }
        },
        "7228ba8c1f2b4acc9ac2e53b4cf1f609": {
          "model_module": "@jupyter-widgets/controls",
          "model_name": "ButtonModel",
          "model_module_version": "1.5.0",
          "state": {
            "_dom_classes": [],
            "_model_module": "@jupyter-widgets/controls",
            "_model_module_version": "1.5.0",
            "_model_name": "ButtonModel",
            "_view_count": null,
            "_view_module": "@jupyter-widgets/controls",
            "_view_module_version": "1.5.0",
            "_view_name": "ButtonView",
            "button_style": "",
            "description": "Register Settings",
            "disabled": false,
            "icon": "",
            "layout": "IPY_MODEL_8589c27c6cfb43acbc2d3b7104ecec2d",
            "style": "IPY_MODEL_6f384cd2aeb9446098951308c51b303a",
            "tooltip": ""
          }
        },
        "5e47b4121ba047f2b27a4b1a46b0c9f7": {
          "model_module": "@jupyter-widgets/output",
          "model_name": "OutputModel",
          "model_module_version": "1.0.0",
          "state": {
            "_dom_classes": [],
            "_model_module": "@jupyter-widgets/output",
            "_model_module_version": "1.0.0",
            "_model_name": "OutputModel",
            "_view_count": null,
            "_view_module": "@jupyter-widgets/output",
            "_view_module_version": "1.0.0",
            "_view_name": "OutputView",
            "layout": "IPY_MODEL_b872ef632af74e33b1f49dfbd5abce96",
            "msg_id": "",
            "outputs": []
          }
        },
        "58e9f521d73f489199ec4f0df3c25057": {
          "model_module": "@jupyter-widgets/base",
          "model_name": "LayoutModel",
          "model_module_version": "1.2.0",
          "state": {
            "_model_module": "@jupyter-widgets/base",
            "_model_module_version": "1.2.0",
            "_model_name": "LayoutModel",
            "_view_count": null,
            "_view_module": "@jupyter-widgets/base",
            "_view_module_version": "1.2.0",
            "_view_name": "LayoutView",
            "align_content": null,
            "align_items": null,
            "align_self": null,
            "border": null,
            "bottom": null,
            "display": null,
            "flex": null,
            "flex_flow": null,
            "grid_area": null,
            "grid_auto_columns": null,
            "grid_auto_flow": null,
            "grid_auto_rows": null,
            "grid_column": null,
            "grid_gap": null,
            "grid_row": null,
            "grid_template_areas": null,
            "grid_template_columns": null,
            "grid_template_rows": null,
            "height": null,
            "justify_content": null,
            "justify_items": null,
            "left": null,
            "margin": null,
            "max_height": null,
            "max_width": null,
            "min_height": null,
            "min_width": null,
            "object_fit": null,
            "object_position": null,
            "order": null,
            "overflow": null,
            "overflow_x": null,
            "overflow_y": null,
            "padding": null,
            "right": null,
            "top": null,
            "visibility": null,
            "width": null
          }
        },
        "05783d34aa45424e8c6fe8c77d36d664": {
          "model_module": "@jupyter-widgets/base",
          "model_name": "LayoutModel",
          "model_module_version": "1.2.0",
          "state": {
            "_model_module": "@jupyter-widgets/base",
            "_model_module_version": "1.2.0",
            "_model_name": "LayoutModel",
            "_view_count": null,
            "_view_module": "@jupyter-widgets/base",
            "_view_module_version": "1.2.0",
            "_view_name": "LayoutView",
            "align_content": null,
            "align_items": null,
            "align_self": null,
            "border": null,
            "bottom": null,
            "display": null,
            "flex": null,
            "flex_flow": null,
            "grid_area": null,
            "grid_auto_columns": null,
            "grid_auto_flow": null,
            "grid_auto_rows": null,
            "grid_column": null,
            "grid_gap": null,
            "grid_row": null,
            "grid_template_areas": null,
            "grid_template_columns": null,
            "grid_template_rows": null,
            "height": null,
            "justify_content": null,
            "justify_items": null,
            "left": null,
            "margin": null,
            "max_height": null,
            "max_width": null,
            "min_height": null,
            "min_width": null,
            "object_fit": null,
            "object_position": null,
            "order": null,
            "overflow": null,
            "overflow_x": null,
            "overflow_y": null,
            "padding": null,
            "right": null,
            "top": null,
            "visibility": null,
            "width": null
          }
        },
        "d1f524cec09448b5a3a716abc3f25811": {
          "model_module": "@jupyter-widgets/controls",
          "model_name": "SliderStyleModel",
          "model_module_version": "1.5.0",
          "state": {
            "_model_module": "@jupyter-widgets/controls",
            "_model_module_version": "1.5.0",
            "_model_name": "SliderStyleModel",
            "_view_count": null,
            "_view_module": "@jupyter-widgets/base",
            "_view_module_version": "1.2.0",
            "_view_name": "StyleView",
            "description_width": "",
            "handle_color": null
          }
        },
        "2884a09cbefd4c02a406b5e7c3e80d69": {
          "model_module": "@jupyter-widgets/base",
          "model_name": "LayoutModel",
          "model_module_version": "1.2.0",
          "state": {
            "_model_module": "@jupyter-widgets/base",
            "_model_module_version": "1.2.0",
            "_model_name": "LayoutModel",
            "_view_count": null,
            "_view_module": "@jupyter-widgets/base",
            "_view_module_version": "1.2.0",
            "_view_name": "LayoutView",
            "align_content": null,
            "align_items": null,
            "align_self": null,
            "border": null,
            "bottom": null,
            "display": null,
            "flex": null,
            "flex_flow": null,
            "grid_area": null,
            "grid_auto_columns": null,
            "grid_auto_flow": null,
            "grid_auto_rows": null,
            "grid_column": null,
            "grid_gap": null,
            "grid_row": null,
            "grid_template_areas": null,
            "grid_template_columns": null,
            "grid_template_rows": null,
            "height": null,
            "justify_content": null,
            "justify_items": null,
            "left": null,
            "margin": null,
            "max_height": null,
            "max_width": null,
            "min_height": null,
            "min_width": null,
            "object_fit": null,
            "object_position": null,
            "order": null,
            "overflow": null,
            "overflow_x": null,
            "overflow_y": null,
            "padding": null,
            "right": null,
            "top": null,
            "visibility": null,
            "width": null
          }
        },
        "379c62f9874c48008bb7718339cb0481": {
          "model_module": "@jupyter-widgets/controls",
          "model_name": "SliderStyleModel",
          "model_module_version": "1.5.0",
          "state": {
            "_model_module": "@jupyter-widgets/controls",
            "_model_module_version": "1.5.0",
            "_model_name": "SliderStyleModel",
            "_view_count": null,
            "_view_module": "@jupyter-widgets/base",
            "_view_module_version": "1.2.0",
            "_view_name": "StyleView",
            "description_width": "",
            "handle_color": null
          }
        },
        "8b40eda1c5304580a0cedf09ab197304": {
          "model_module": "@jupyter-widgets/base",
          "model_name": "LayoutModel",
          "model_module_version": "1.2.0",
          "state": {
            "_model_module": "@jupyter-widgets/base",
            "_model_module_version": "1.2.0",
            "_model_name": "LayoutModel",
            "_view_count": null,
            "_view_module": "@jupyter-widgets/base",
            "_view_module_version": "1.2.0",
            "_view_name": "LayoutView",
            "align_content": null,
            "align_items": null,
            "align_self": null,
            "border": null,
            "bottom": null,
            "display": null,
            "flex": null,
            "flex_flow": null,
            "grid_area": null,
            "grid_auto_columns": null,
            "grid_auto_flow": null,
            "grid_auto_rows": null,
            "grid_column": null,
            "grid_gap": null,
            "grid_row": null,
            "grid_template_areas": null,
            "grid_template_columns": null,
            "grid_template_rows": null,
            "height": null,
            "justify_content": null,
            "justify_items": null,
            "left": null,
            "margin": null,
            "max_height": null,
            "max_width": null,
            "min_height": null,
            "min_width": null,
            "object_fit": null,
            "object_position": null,
            "order": null,
            "overflow": null,
            "overflow_x": null,
            "overflow_y": null,
            "padding": null,
            "right": null,
            "top": null,
            "visibility": null,
            "width": null
          }
        },
        "36e0d10f42bd4e3a85cda65458ae3e3a": {
          "model_module": "@jupyter-widgets/controls",
          "model_name": "DescriptionStyleModel",
          "model_module_version": "1.5.0",
          "state": {
            "_model_module": "@jupyter-widgets/controls",
            "_model_module_version": "1.5.0",
            "_model_name": "DescriptionStyleModel",
            "_view_count": null,
            "_view_module": "@jupyter-widgets/base",
            "_view_module_version": "1.2.0",
            "_view_name": "StyleView",
            "description_width": ""
          }
        },
        "1b799c2dae514e29936f877360fd0739": {
          "model_module": "@jupyter-widgets/base",
          "model_name": "LayoutModel",
          "model_module_version": "1.2.0",
          "state": {
            "_model_module": "@jupyter-widgets/base",
            "_model_module_version": "1.2.0",
            "_model_name": "LayoutModel",
            "_view_count": null,
            "_view_module": "@jupyter-widgets/base",
            "_view_module_version": "1.2.0",
            "_view_name": "LayoutView",
            "align_content": null,
            "align_items": null,
            "align_self": null,
            "border": null,
            "bottom": null,
            "display": null,
            "flex": null,
            "flex_flow": null,
            "grid_area": null,
            "grid_auto_columns": null,
            "grid_auto_flow": null,
            "grid_auto_rows": null,
            "grid_column": null,
            "grid_gap": null,
            "grid_row": null,
            "grid_template_areas": null,
            "grid_template_columns": null,
            "grid_template_rows": null,
            "height": null,
            "justify_content": null,
            "justify_items": null,
            "left": null,
            "margin": null,
            "max_height": null,
            "max_width": null,
            "min_height": null,
            "min_width": null,
            "object_fit": null,
            "object_position": null,
            "order": null,
            "overflow": null,
            "overflow_x": null,
            "overflow_y": null,
            "padding": null,
            "right": null,
            "top": null,
            "visibility": null,
            "width": null
          }
        },
        "7ee0a6804665400aaf2860febdc00b5f": {
          "model_module": "@jupyter-widgets/controls",
          "model_name": "DescriptionStyleModel",
          "model_module_version": "1.5.0",
          "state": {
            "_model_module": "@jupyter-widgets/controls",
            "_model_module_version": "1.5.0",
            "_model_name": "DescriptionStyleModel",
            "_view_count": null,
            "_view_module": "@jupyter-widgets/base",
            "_view_module_version": "1.2.0",
            "_view_name": "StyleView",
            "description_width": ""
          }
        },
        "e26c74aa646549b0851ecba949bad7d1": {
          "model_module": "@jupyter-widgets/base",
          "model_name": "LayoutModel",
          "model_module_version": "1.2.0",
          "state": {
            "_model_module": "@jupyter-widgets/base",
            "_model_module_version": "1.2.0",
            "_model_name": "LayoutModel",
            "_view_count": null,
            "_view_module": "@jupyter-widgets/base",
            "_view_module_version": "1.2.0",
            "_view_name": "LayoutView",
            "align_content": null,
            "align_items": null,
            "align_self": null,
            "border": null,
            "bottom": null,
            "display": null,
            "flex": null,
            "flex_flow": null,
            "grid_area": null,
            "grid_auto_columns": null,
            "grid_auto_flow": null,
            "grid_auto_rows": null,
            "grid_column": null,
            "grid_gap": null,
            "grid_row": null,
            "grid_template_areas": null,
            "grid_template_columns": null,
            "grid_template_rows": null,
            "height": null,
            "justify_content": null,
            "justify_items": null,
            "left": null,
            "margin": null,
            "max_height": null,
            "max_width": null,
            "min_height": null,
            "min_width": null,
            "object_fit": null,
            "object_position": null,
            "order": null,
            "overflow": null,
            "overflow_x": null,
            "overflow_y": null,
            "padding": null,
            "right": null,
            "top": null,
            "visibility": null,
            "width": null
          }
        },
        "3d0c75b0e62047cf9f6673580fa54c66": {
          "model_module": "@jupyter-widgets/controls",
          "model_name": "DescriptionStyleModel",
          "model_module_version": "1.5.0",
          "state": {
            "_model_module": "@jupyter-widgets/controls",
            "_model_module_version": "1.5.0",
            "_model_name": "DescriptionStyleModel",
            "_view_count": null,
            "_view_module": "@jupyter-widgets/base",
            "_view_module_version": "1.2.0",
            "_view_name": "StyleView",
            "description_width": ""
          }
        },
        "e9248a29214e40a5abd724ac40e65406": {
          "model_module": "@jupyter-widgets/base",
          "model_name": "LayoutModel",
          "model_module_version": "1.2.0",
          "state": {
            "_model_module": "@jupyter-widgets/base",
            "_model_module_version": "1.2.0",
            "_model_name": "LayoutModel",
            "_view_count": null,
            "_view_module": "@jupyter-widgets/base",
            "_view_module_version": "1.2.0",
            "_view_name": "LayoutView",
            "align_content": null,
            "align_items": null,
            "align_self": null,
            "border": null,
            "bottom": null,
            "display": null,
            "flex": null,
            "flex_flow": null,
            "grid_area": null,
            "grid_auto_columns": null,
            "grid_auto_flow": null,
            "grid_auto_rows": null,
            "grid_column": null,
            "grid_gap": null,
            "grid_row": null,
            "grid_template_areas": null,
            "grid_template_columns": null,
            "grid_template_rows": null,
            "height": null,
            "justify_content": null,
            "justify_items": null,
            "left": null,
            "margin": null,
            "max_height": null,
            "max_width": null,
            "min_height": null,
            "min_width": null,
            "object_fit": null,
            "object_position": null,
            "order": null,
            "overflow": null,
            "overflow_x": null,
            "overflow_y": null,
            "padding": null,
            "right": null,
            "top": null,
            "visibility": null,
            "width": null
          }
        },
        "9eace2fa05a44d19acda0952640ab035": {
          "model_module": "@jupyter-widgets/controls",
          "model_name": "DescriptionStyleModel",
          "model_module_version": "1.5.0",
          "state": {
            "_model_module": "@jupyter-widgets/controls",
            "_model_module_version": "1.5.0",
            "_model_name": "DescriptionStyleModel",
            "_view_count": null,
            "_view_module": "@jupyter-widgets/base",
            "_view_module_version": "1.2.0",
            "_view_name": "StyleView",
            "description_width": ""
          }
        },
        "b359d2b0dab64f648be2e5d944dceace": {
          "model_module": "@jupyter-widgets/base",
          "model_name": "LayoutModel",
          "model_module_version": "1.2.0",
          "state": {
            "_model_module": "@jupyter-widgets/base",
            "_model_module_version": "1.2.0",
            "_model_name": "LayoutModel",
            "_view_count": null,
            "_view_module": "@jupyter-widgets/base",
            "_view_module_version": "1.2.0",
            "_view_name": "LayoutView",
            "align_content": null,
            "align_items": null,
            "align_self": null,
            "border": null,
            "bottom": null,
            "display": null,
            "flex": null,
            "flex_flow": null,
            "grid_area": null,
            "grid_auto_columns": null,
            "grid_auto_flow": null,
            "grid_auto_rows": null,
            "grid_column": null,
            "grid_gap": null,
            "grid_row": null,
            "grid_template_areas": null,
            "grid_template_columns": null,
            "grid_template_rows": null,
            "height": null,
            "justify_content": null,
            "justify_items": null,
            "left": null,
            "margin": null,
            "max_height": null,
            "max_width": null,
            "min_height": null,
            "min_width": null,
            "object_fit": null,
            "object_position": null,
            "order": null,
            "overflow": null,
            "overflow_x": null,
            "overflow_y": null,
            "padding": null,
            "right": null,
            "top": null,
            "visibility": null,
            "width": null
          }
        },
        "36baf6bcc84a43b39157a3af42a09ea7": {
          "model_module": "@jupyter-widgets/controls",
          "model_name": "DescriptionStyleModel",
          "model_module_version": "1.5.0",
          "state": {
            "_model_module": "@jupyter-widgets/controls",
            "_model_module_version": "1.5.0",
            "_model_name": "DescriptionStyleModel",
            "_view_count": null,
            "_view_module": "@jupyter-widgets/base",
            "_view_module_version": "1.2.0",
            "_view_name": "StyleView",
            "description_width": ""
          }
        },
        "c3bff2cd96464757b3a5fbf39a11047e": {
          "model_module": "@jupyter-widgets/base",
          "model_name": "LayoutModel",
          "model_module_version": "1.2.0",
          "state": {
            "_model_module": "@jupyter-widgets/base",
            "_model_module_version": "1.2.0",
            "_model_name": "LayoutModel",
            "_view_count": null,
            "_view_module": "@jupyter-widgets/base",
            "_view_module_version": "1.2.0",
            "_view_name": "LayoutView",
            "align_content": null,
            "align_items": null,
            "align_self": null,
            "border": null,
            "bottom": null,
            "display": null,
            "flex": null,
            "flex_flow": null,
            "grid_area": null,
            "grid_auto_columns": null,
            "grid_auto_flow": null,
            "grid_auto_rows": null,
            "grid_column": null,
            "grid_gap": null,
            "grid_row": null,
            "grid_template_areas": null,
            "grid_template_columns": null,
            "grid_template_rows": null,
            "height": null,
            "justify_content": null,
            "justify_items": null,
            "left": null,
            "margin": null,
            "max_height": null,
            "max_width": null,
            "min_height": null,
            "min_width": null,
            "object_fit": null,
            "object_position": null,
            "order": null,
            "overflow": null,
            "overflow_x": null,
            "overflow_y": null,
            "padding": null,
            "right": null,
            "top": null,
            "visibility": null,
            "width": null
          }
        },
        "2f149bbd38984b059f986ded699b3f02": {
          "model_module": "@jupyter-widgets/controls",
          "model_name": "DescriptionStyleModel",
          "model_module_version": "1.5.0",
          "state": {
            "_model_module": "@jupyter-widgets/controls",
            "_model_module_version": "1.5.0",
            "_model_name": "DescriptionStyleModel",
            "_view_count": null,
            "_view_module": "@jupyter-widgets/base",
            "_view_module_version": "1.2.0",
            "_view_name": "StyleView",
            "description_width": ""
          }
        },
        "8589c27c6cfb43acbc2d3b7104ecec2d": {
          "model_module": "@jupyter-widgets/base",
          "model_name": "LayoutModel",
          "model_module_version": "1.2.0",
          "state": {
            "_model_module": "@jupyter-widgets/base",
            "_model_module_version": "1.2.0",
            "_model_name": "LayoutModel",
            "_view_count": null,
            "_view_module": "@jupyter-widgets/base",
            "_view_module_version": "1.2.0",
            "_view_name": "LayoutView",
            "align_content": null,
            "align_items": null,
            "align_self": null,
            "border": null,
            "bottom": null,
            "display": null,
            "flex": null,
            "flex_flow": null,
            "grid_area": null,
            "grid_auto_columns": null,
            "grid_auto_flow": null,
            "grid_auto_rows": null,
            "grid_column": null,
            "grid_gap": null,
            "grid_row": null,
            "grid_template_areas": null,
            "grid_template_columns": null,
            "grid_template_rows": null,
            "height": null,
            "justify_content": null,
            "justify_items": null,
            "left": null,
            "margin": null,
            "max_height": null,
            "max_width": null,
            "min_height": null,
            "min_width": null,
            "object_fit": null,
            "object_position": null,
            "order": null,
            "overflow": null,
            "overflow_x": null,
            "overflow_y": null,
            "padding": null,
            "right": null,
            "top": null,
            "visibility": null,
            "width": null
          }
        },
        "6f384cd2aeb9446098951308c51b303a": {
          "model_module": "@jupyter-widgets/controls",
          "model_name": "ButtonStyleModel",
          "model_module_version": "1.5.0",
          "state": {
            "_model_module": "@jupyter-widgets/controls",
            "_model_module_version": "1.5.0",
            "_model_name": "ButtonStyleModel",
            "_view_count": null,
            "_view_module": "@jupyter-widgets/base",
            "_view_module_version": "1.2.0",
            "_view_name": "StyleView",
            "button_color": null,
            "font_weight": ""
          }
        },
        "b872ef632af74e33b1f49dfbd5abce96": {
          "model_module": "@jupyter-widgets/base",
          "model_name": "LayoutModel",
          "model_module_version": "1.2.0",
          "state": {
            "_model_module": "@jupyter-widgets/base",
            "_model_module_version": "1.2.0",
            "_model_name": "LayoutModel",
            "_view_count": null,
            "_view_module": "@jupyter-widgets/base",
            "_view_module_version": "1.2.0",
            "_view_name": "LayoutView",
            "align_content": null,
            "align_items": null,
            "align_self": null,
            "border": null,
            "bottom": null,
            "display": null,
            "flex": null,
            "flex_flow": null,
            "grid_area": null,
            "grid_auto_columns": null,
            "grid_auto_flow": null,
            "grid_auto_rows": null,
            "grid_column": null,
            "grid_gap": null,
            "grid_row": null,
            "grid_template_areas": null,
            "grid_template_columns": null,
            "grid_template_rows": null,
            "height": null,
            "justify_content": null,
            "justify_items": null,
            "left": null,
            "margin": null,
            "max_height": null,
            "max_width": null,
            "min_height": null,
            "min_width": null,
            "object_fit": null,
            "object_position": null,
            "order": null,
            "overflow": null,
            "overflow_x": null,
            "overflow_y": null,
            "padding": null,
            "right": null,
            "top": null,
            "visibility": null,
            "width": null
          }
        }
      }
    }
  },
  "cells": [
    {
      "cell_type": "markdown",
      "source": [
        "The purpose of this notebook effect of quantization on the performance when training a simple neural network performing classifaction (fully connected) The neural network can be parametrizeed by the number of layers, activation function, number of nodes per layer. Then, using a simple synthetic data set consisting of 2 possible choices-- bimodal guassian and spiral. Compute the effect of quantization on performance. The training of the model is done with fp32 and fp16. fp16 is done using PyTorch's .half() method."
      ],
      "metadata": {
        "id": "fNa9U7bGShsr"
      }
    },
    {
      "cell_type": "markdown",
      "source": [
        "imports"
      ],
      "metadata": {
        "id": "katQ-Q4xYSt4"
      }
    },
    {
      "cell_type": "code",
      "source": [
        "import torch\n",
        "import torch.nn as nn\n",
        "import torch.optim as optim\n",
        "from torch.utils.data import Dataset, DataLoader\n",
        "import numpy as np\n",
        "import matplotlib.pyplot as plt"
      ],
      "metadata": {
        "id": "opaK1gVWYK0b"
      },
      "execution_count": 1,
      "outputs": []
    },
    {
      "cell_type": "markdown",
      "source": [
        "seeds"
      ],
      "metadata": {
        "id": "gzacI0XnOSBp"
      }
    },
    {
      "cell_type": "code",
      "source": [
        "\n",
        "import random # Import the random module\n",
        "\n",
        "def set_seed(seed_value):\n",
        "    \"\"\"Set seed for reproducibility across different libraries.\"\"\"\n",
        "    random.seed(seed_value) # Python's built-in random\n",
        "    np.random.seed(seed_value) # NumPy\n",
        "    torch.manual_seed(seed_value) # PyTorch CPU\n",
        "\n",
        "    if torch.cuda.is_available():\n",
        "        torch.cuda.manual_seed(seed_value) # PyTorch CUDA single GPU\n",
        "        torch.cuda.manual_seed_all(seed_value) # PyTorch CUDA multi-GPU\n",
        "        # Optional: Enable deterministic operations on CUDA. Can have a performance impact.\n",
        "        # Some operations are not deterministic even with seeds without these lines.\n",
        "        torch.backends.cudnn.deterministic = True\n",
        "        torch.backends.cudnn.benchmark = False # Setting benchmark to False is often recommended with deterministic=True\n",
        "\n",
        "\n",
        "\n",
        "# Choose a seed value - any integer works\n",
        "SEED = 42\n",
        "set_seed(SEED)\n",
        "\n",
        "\n",
        "\n"
      ],
      "metadata": {
        "id": "JxreHUkgOTfn"
      },
      "execution_count": 2,
      "outputs": []
    },
    {
      "cell_type": "markdown",
      "source": [
        "configuration in a dict"
      ],
      "metadata": {
        "id": "dijhhrTQYUkv"
      }
    },
    {
      "cell_type": "code",
      "source": [
        "# Configuration parameters\n",
        "# Existing config dictionary\n",
        "config = {\n",
        "    'num_layers': 3,\n",
        "    'activation_function': 'relu',\n",
        "    'nodes_per_layer': 4,\n",
        "    'dataset_type': 'spiral', # or 'spiral'\n",
        "    'num_training_samples': 1000,\n",
        "    'num_testing_samples': 1000,\n",
        "    'epochs': 100,\n",
        "    'batch_size': 8,\n",
        "    'learning_rate': 0.03,\n",
        "    'precision': 'fp32' # Added precision to config\n",
        "}"
      ],
      "metadata": {
        "id": "FR6CNfgpYYt7"
      },
      "execution_count": 3,
      "outputs": []
    },
    {
      "cell_type": "markdown",
      "source": [
        "this is a simple UI to capture the config"
      ],
      "metadata": {
        "id": "JWN22MkvZzr2"
      }
    },
    {
      "cell_type": "code",
      "source": [
        "from IPython.display import display\n",
        "import ipywidgets as widgets\n",
        "\n",
        "\n",
        "\n",
        "\n",
        "# Create widgets for each configuration parameter\n",
        "\n",
        "# Number of layers slider\n",
        "num_layers_slider = widgets.IntSlider(\n",
        "    min=1,\n",
        "    max=10,\n",
        "    step=1,\n",
        "    description='Number of Layers:',\n",
        "    value=config['num_layers'],\n",
        "    continuous_update=False,\n",
        "    orientation='horizontal',\n",
        "    readout=True,\n",
        "    readout_format='d'\n",
        ")\n",
        "\n",
        "# Nodes per layer slider\n",
        "nodes_per_layer_slider = widgets.IntSlider(\n",
        "    min=1,\n",
        "    max=256,\n",
        "    step=16,\n",
        "    description='Nodes per Layer:',\n",
        "    value=config['nodes_per_layer'],\n",
        "    continuous_update=False,\n",
        "    orientation='horizontal',\n",
        "    readout=True,\n",
        "    readout_format='d'\n",
        ")\n",
        "\n",
        "# Dataset type dropdown\n",
        "dataset_type_dropdown = widgets.Dropdown(\n",
        "    options=['bimodal_gaussian', 'spiral'],\n",
        "    value=config['dataset_type'],\n",
        "    description='Dataset Type:',\n",
        ")\n",
        "\n",
        "# Number of training samples text box\n",
        "num_training_samples_text = widgets.IntText(\n",
        "    description='Number of Training Samples:',\n",
        "    value=config['num_training_samples'],\n",
        ")\n",
        "# Number of testing samples text box\n",
        "num_testing_samples_text = widgets.IntText(\n",
        "    description='Number of Testing Samples:',\n",
        "    value=config['num_testing_samples'],\n",
        ")\n",
        "# Batch size dropdown\n",
        "batch_size_dropdown = widgets.Dropdown(\n",
        "    options=[4, 8, 16, 32],\n",
        "    value=config['batch_size'],\n",
        "    description='Batch Size:',\n",
        ")\n",
        "\n",
        "# Learning rate text box\n",
        "learning_rate_text = widgets.FloatText(\n",
        "    description='Learning Rate:',\n",
        "    value=config['learning_rate'],\n",
        ")\n",
        "\n",
        "# Precision dropdown\n",
        "precision_dropdown = widgets.Dropdown(\n",
        "    options=['fp32', 'fp16'],\n",
        "    value=config['precision'],\n",
        "    description='Precision:',\n",
        ")\n",
        "\n",
        "# Button to register settings\n",
        "register_button = widgets.Button(description=\"Register Settings\")\n",
        "\n",
        "# Output widget to display the config\n",
        "output_widget = widgets.Output()\n",
        "\n",
        "# Function to update config and display it\n",
        "def register_settings(b):\n",
        "    # Update config dictionary with selected values\n",
        "    config['num_layers'] = num_layers_slider.value\n",
        "    config['nodes_per_layer'] = nodes_per_layer_slider.value\n",
        "    config['dataset_type'] = dataset_type_dropdown.value\n",
        "    config['num_training_samples'] = num_training_samples_text.value\n",
        "    config['num_testing_samples'] = num_testing_samples_text.value\n",
        "    config['batch_size'] = batch_size_dropdown.value\n",
        "    config['learning_rate'] = learning_rate_text.value\n",
        "    config['precision'] = precision_dropdown.value\n",
        "\n",
        "    # Clear previous output and display the updated config\n",
        "    with output_widget:\n",
        "        output_widget.clear_output()\n",
        "        print(\"Updated Configuration Dictionary:\")\n",
        "        print(config)\n",
        "\n",
        "# Link the button click event to the function\n",
        "register_button.on_click(register_settings)\n",
        "\n",
        "# Arrange widgets and button in a VBox\n",
        "ui = widgets.VBox([\n",
        "    num_layers_slider,\n",
        "    nodes_per_layer_slider,\n",
        "    dataset_type_dropdown,\n",
        "    num_training_samples_text,\n",
        "    num_testing_samples_text,\n",
        "    batch_size_dropdown,\n",
        "    learning_rate_text,\n",
        "    precision_dropdown,\n",
        "    register_button,\n",
        "    output_widget # Include the output widget in the layout\n",
        "])\n",
        "\n",
        "# Display the UI\n",
        "display(ui)"
      ],
      "metadata": {
        "colab": {
          "base_uri": "https://localhost:8080/",
          "height": 305,
          "referenced_widgets": [
            "fa0f90e25aed4d1d90c1928c2ec0cebb",
            "867f30e52a644fe090318a2b457d3213",
            "a2bc231e5a0b479b8c7e533b4aa6338b",
            "11835300fd8f41588dd4ccda09e01212",
            "c0041ea3c49e46328ae4d62289c369e8",
            "884668eb95df46478db1b9446a729669",
            "4b9905bd67414831ad3c639edad6eda0",
            "a9761e370b7147c88a6e8bfd5d4cc46a",
            "cc8f6beb067d4d5e8ddf92bff662d09c",
            "7228ba8c1f2b4acc9ac2e53b4cf1f609",
            "5e47b4121ba047f2b27a4b1a46b0c9f7",
            "58e9f521d73f489199ec4f0df3c25057",
            "05783d34aa45424e8c6fe8c77d36d664",
            "d1f524cec09448b5a3a716abc3f25811",
            "2884a09cbefd4c02a406b5e7c3e80d69",
            "379c62f9874c48008bb7718339cb0481",
            "8b40eda1c5304580a0cedf09ab197304",
            "36e0d10f42bd4e3a85cda65458ae3e3a",
            "1b799c2dae514e29936f877360fd0739",
            "7ee0a6804665400aaf2860febdc00b5f",
            "e26c74aa646549b0851ecba949bad7d1",
            "3d0c75b0e62047cf9f6673580fa54c66",
            "e9248a29214e40a5abd724ac40e65406",
            "9eace2fa05a44d19acda0952640ab035",
            "b359d2b0dab64f648be2e5d944dceace",
            "36baf6bcc84a43b39157a3af42a09ea7",
            "c3bff2cd96464757b3a5fbf39a11047e",
            "2f149bbd38984b059f986ded699b3f02",
            "8589c27c6cfb43acbc2d3b7104ecec2d",
            "6f384cd2aeb9446098951308c51b303a",
            "b872ef632af74e33b1f49dfbd5abce96"
          ]
        },
        "id": "4wDw7nCCZy6V",
        "outputId": "95a1f8f9-bbb7-4387-b023-00ef01f48140"
      },
      "execution_count": 4,
      "outputs": [
        {
          "output_type": "display_data",
          "data": {
            "text/plain": [
              "VBox(children=(IntSlider(value=3, continuous_update=False, description='Number of Layers:', max=10, min=1), In…"
            ],
            "application/vnd.jupyter.widget-view+json": {
              "version_major": 2,
              "version_minor": 0,
              "model_id": "fa0f90e25aed4d1d90c1928c2ec0cebb"
            }
          },
          "metadata": {}
        }
      ]
    },
    {
      "cell_type": "markdown",
      "source": [
        "create data"
      ],
      "metadata": {
        "id": "VXbr9ajTWyDj"
      }
    },
    {
      "cell_type": "code",
      "source": [
        "\n",
        "\n",
        "def create_dataset(dataset_type, num_samples):\n",
        "    if dataset_type == 'bimodal_gaussian':\n",
        "        n = num_samples // 2  # Split samples equally between the two Gaussians\n",
        "\n",
        "        # Gaussian 1: centered at [-1, -1] with identity covariance (unit variance)\n",
        "        mean1 = [-2, -2]\n",
        "        cov1 = [[1, 0], [0, 1]]\n",
        "        X1 = np.random.multivariate_normal(mean1, cov1, n)\n",
        "        y1 = np.zeros(n)\n",
        "\n",
        "        # Gaussian 2: centered at [1, 1] with identity covariance (unit variance)\n",
        "        mean2 = [2, 2]\n",
        "        cov2 = [[1, 0], [0, 1]]\n",
        "        X2 = np.random.multivariate_normal(mean2, cov2, n)\n",
        "        y2 = np.ones(n)\n",
        "\n",
        "        X = np.vstack([X1, X2])\n",
        "        y = np.hstack([y1, y2])\n",
        "\n",
        "    elif dataset_type == 'spiral':\n",
        "        n = num_samples // 2\n",
        "        theta = np.linspace(0, 2 * np.pi, n) + np.random.randn(n) * 0.1\n",
        "        r = np.linspace(0, 1, n)\n",
        "        X1 = np.vstack([r * np.cos(theta), r * np.sin(theta)]).T\n",
        "        y1 = np.zeros(n)\n",
        "\n",
        "        theta = np.linspace(0, 2 * np.pi, n) + np.random.randn(n) * 0.1 + np.pi\n",
        "        r = np.linspace(0, 1, n)\n",
        "        X2 = np.vstack([r * np.cos(theta), r * np.sin(theta)]).T\n",
        "        y2 = np.ones(n)\n",
        "\n",
        "        X = np.vstack([X1, X2])\n",
        "        y = np.hstack([y1, y2])\n",
        "    else:\n",
        "        raise ValueError(\"Invalid dataset type\")\n",
        "    return torch.tensor(X, dtype=torch.float32), torch.tensor(y, dtype=torch.long)\n"
      ],
      "metadata": {
        "id": "waBvPvN3WNcO"
      },
      "execution_count": 5,
      "outputs": []
    },
    {
      "cell_type": "markdown",
      "source": [
        "display training data (bimodal gaussian or spiral)"
      ],
      "metadata": {
        "id": "QKWtnAxVXFbi"
      }
    },
    {
      "cell_type": "code",
      "source": [
        "def display_data(X, y, dataset_type):\n",
        "    \"\"\"\n",
        "    Displays the generated synthetic data.\n",
        "\n",
        "    Args:\n",
        "        X (torch.Tensor): The input features.\n",
        "        y (torch.Tensor): The corresponding labels.\n",
        "        dataset_type (str): The type of dataset ('bimodal_gaussian' or 'spiral').\n",
        "    \"\"\"\n",
        "    X_np = X.numpy()\n",
        "    y_np = y.numpy()\n",
        "\n",
        "    plt.figure(figsize=(6, 6))\n",
        "    plt.scatter(X_np[:, 0], X_np[:, 1], c=y_np, cmap='viridis', s=10)\n",
        "    plt.title(f'{dataset_type.replace(\"_\", \" \").title()} Dataset')\n",
        "    plt.xlabel('Feature 1')\n",
        "    plt.ylabel('Feature 2')\n",
        "    plt.colorbar(label='Class')\n",
        "    plt.grid(True)\n",
        "    plt.show()"
      ],
      "metadata": {
        "id": "4JrNI53MXDhH"
      },
      "execution_count": 6,
      "outputs": []
    },
    {
      "cell_type": "markdown",
      "source": [
        "create train data"
      ],
      "metadata": {
        "id": "i0V2JluGbAfe"
      }
    },
    {
      "cell_type": "code",
      "source": [
        "X_train, y_train = create_dataset(config['dataset_type'], config['num_training_samples'])\n",
        "display_data(X_train, y_train, config['dataset_type'])"
      ],
      "metadata": {
        "colab": {
          "base_uri": "https://localhost:8080/",
          "height": 564
        },
        "id": "Zr7sqVR7XKgG",
        "outputId": "75e2d143-d0c8-4780-d5e3-52831be8a70a"
      },
      "execution_count": 7,
      "outputs": [
        {
          "output_type": "display_data",
          "data": {
            "text/plain": [
              "<Figure size 600x600 with 2 Axes>"
            ],
            "image/png": "[encoded data removed]"
          },
          "metadata": {}
        }
      ]
    },
    {
      "cell_type": "markdown",
      "source": [
        "create test data\n"
      ],
      "metadata": {
        "id": "aFNMp-TdtA8D"
      }
    },
    {
      "cell_type": "code",
      "source": [
        "# Create testing data\n",
        "X_test, y_test = create_dataset(config['dataset_type'], config['num_testing_samples'])\n",
        "display_data(X_test, y_test, config['dataset_type'])"
      ],
      "metadata": {
        "colab": {
          "base_uri": "https://localhost:8080/",
          "height": 564
        },
        "id": "plw5VYHgbHKt",
        "outputId": "8647b459-aafc-4069-f46a-09070cc1f432"
      },
      "execution_count": 8,
      "outputs": [
        {
          "output_type": "display_data",
          "data": {
            "text/plain": [
              "<Figure size 600x600 with 2 Axes>"
            ],
            "image/png": "[encoded data removed]"
          },
          "metadata": {}
        }
      ]
    },
    {
      "cell_type": "markdown",
      "source": [
        "dataset and dataloader for train and test"
      ],
      "metadata": {
        "id": "p4e-VYrIa-Bf"
      }
    },
    {
      "cell_type": "code",
      "source": [
        "# Custom Dataset\n",
        "class ClassificationDataset(Dataset):\n",
        "    def __init__(self, X, y):\n",
        "        self.X = X\n",
        "        self.y = y\n",
        "\n",
        "    def __len__(self):\n",
        "        return len(self.X)\n",
        "\n",
        "    def __getitem__(self, idx):\n",
        "        return self.X[idx], self.y[idx]\n",
        "\n",
        "dataset_train = ClassificationDataset(X_train, y_train)\n",
        "dataloader_train = DataLoader(dataset_train, batch_size=config['batch_size'], shuffle=True)\n",
        "\n",
        "dataset_test = ClassificationDataset(X_test, y_test)\n",
        "dataloader_test = DataLoader(dataset_test, batch_size=config['batch_size'], shuffle=True)\n"
      ],
      "metadata": {
        "id": "OwmqSl31tBQp"
      },
      "execution_count": 9,
      "outputs": []
    },
    {
      "cell_type": "markdown",
      "source": [
        "define linear NN"
      ],
      "metadata": {
        "id": "Wd5GXAbHbl36"
      }
    },
    {
      "cell_type": "code",
      "source": [
        "\n",
        "# Neural Network Model\n",
        "class SimpleNN(nn.Module):\n",
        "    def __init__(self, input_dim, num_layers, nodes_per_layer, activation_function):\n",
        "        super(SimpleNN, self).__init__()\n",
        "        layers = []\n",
        "        layers.append(nn.Linear(input_dim, nodes_per_layer))\n",
        "        if activation_function == 'relu':\n",
        "            layers.append(nn.ReLU())\n",
        "        elif activation_function == 'tanh':\n",
        "            layers.append(nn.Tanh())\n",
        "        else:\n",
        "            raise ValueError(\"Invalid activation function\")\n",
        "\n",
        "        for _ in range(num_layers - 1):\n",
        "            layers.append(nn.Linear(nodes_per_layer, nodes_per_layer))\n",
        "            if activation_function == 'relu':\n",
        "                layers.append(nn.ReLU())\n",
        "            elif activation_function == 'tanh':\n",
        "                layers.append(nn.Tanh())\n",
        "            else:\n",
        "                raise ValueError(\"Invalid activation function\")\n",
        "\n",
        "        layers.append(nn.Linear(nodes_per_layer, 2)) # Output layer for 2 classes\n",
        "        self.network = nn.Sequential(*layers)\n",
        "\n",
        "    def forward(self, x):\n",
        "        return self.network(x)\n"
      ],
      "metadata": {
        "id": "bPn2dHr6tWa_"
      },
      "execution_count": 10,
      "outputs": []
    },
    {
      "cell_type": "markdown",
      "source": [
        "\n",
        "Trains model using either fp32 or fp16\n",
        "Has no option for gradient scaling so the fp16-trained model has loss of NaN"
      ],
      "metadata": {
        "id": "FPcJ5NQDt8Bk"
      }
    },
    {
      "cell_type": "code",
      "source": [
        "# Training function with explicit device placement\n",
        "def train_model(model, dataloader, epochs, learning_rate, dtype):\n",
        "    criterion = nn.CrossEntropyLoss()\n",
        "    optimizer = optim.Adam(model.parameters(), lr=learning_rate)\n",
        "\n",
        "    # Get the device (consistent with mixed precision function)\n",
        "    device = torch.device(\"cuda\" if torch.cuda.is_available() else \"cpu\")\n",
        "\n",
        "    # Move model to the correct device AND dtype\n",
        "    model.to(device=device, dtype=dtype)\n",
        "\n",
        "    for epoch in range(epochs):\n",
        "        for inputs, labels in dataloader:\n",
        "            # Move inputs and labels to the correct device AND dtype\n",
        "            # Note: Labels are usually torch.long for CrossEntropyLoss, so only inputs need dtype casting\n",
        "            inputs, labels = inputs.to(device=device, dtype=dtype), labels.to(device=device)\n",
        "\n",
        "            optimizer.zero_grad()\n",
        "            outputs = model(inputs)\n",
        "            loss = criterion(outputs, labels)\n",
        "            loss.backward()\n",
        "            optimizer.step()\n",
        "\n",
        "        # Print statement for loss per epoch\n",
        "        print(f'Epoch {epoch+1}/{epochs}, Loss: {loss.item():.4f}')\n"
      ],
      "metadata": {
        "id": "q1sDAY9AWZj3",
        "collapsed": true
      },
      "execution_count": 11,
      "outputs": []
    },
    {
      "cell_type": "markdown",
      "source": [
        "for sanity check .. not to include in final code"
      ],
      "metadata": {
        "id": "BgSPw0x3czdp"
      }
    },
    {
      "cell_type": "code",
      "source": [
        "model_fp32 = SimpleNN(input_dim=2, **{k: config[k] for k in ['num_layers', 'nodes_per_layer', 'activation_function']})\n",
        "print(\"Training with FP32:\")\n",
        "train_model(model_fp32, dataloader_train, config['epochs'], config['learning_rate'], torch.float32)"
      ],
      "metadata": {
        "colab": {
          "base_uri": "https://localhost:8080/"
        },
        "collapsed": true,
        "id": "w86QG28Fc3SO",
        "outputId": "61c70cd6-bddc-4977-bc04-c48b9894b887"
      },
      "execution_count": 12,
      "outputs": [
        {
          "output_type": "stream",
          "name": "stdout",
          "text": [
            "Training with FP32:\n",
            "Epoch 1/100, Loss: 0.7148\n",
            "Epoch 2/100, Loss: 0.6537\n",
            "Epoch 3/100, Loss: 0.6579\n",
            "Epoch 4/100, Loss: 0.5085\n",
            "Epoch 5/100, Loss: 0.8453\n",
            "Epoch 6/100, Loss: 0.3313\n",
            "Epoch 7/100, Loss: 0.0817\n",
            "Epoch 8/100, Loss: 0.1421\n",
            "Epoch 9/100, Loss: 0.3622\n",
            "Epoch 10/100, Loss: 0.3117\n",
            "Epoch 11/100, Loss: 0.2643\n",
            "Epoch 12/100, Loss: 0.0662\n",
            "Epoch 13/100, Loss: 0.1689\n",
            "Epoch 14/100, Loss: 0.1676\n",
            "Epoch 15/100, Loss: 0.3663\n",
            "Epoch 16/100, Loss: 0.3091\n",
            "Epoch 17/100, Loss: 0.2453\n",
            "Epoch 18/100, Loss: 0.3409\n",
            "Epoch 19/100, Loss: 0.5121\n",
            "Epoch 20/100, Loss: 0.2583\n",
            "Epoch 21/100, Loss: 0.7695\n",
            "Epoch 22/100, Loss: 0.0061\n",
            "Epoch 23/100, Loss: 0.0545\n",
            "Epoch 24/100, Loss: 0.1957\n",
            "Epoch 25/100, Loss: 0.1342\n",
            "Epoch 26/100, Loss: 0.2263\n",
            "Epoch 27/100, Loss: 0.2638\n",
            "Epoch 28/100, Loss: 0.4025\n",
            "Epoch 29/100, Loss: 0.1584\n",
            "Epoch 30/100, Loss: 0.0355\n",
            "Epoch 31/100, Loss: 0.1407\n",
            "Epoch 32/100, Loss: 0.2043\n",
            "Epoch 33/100, Loss: 0.3511\n",
            "Epoch 34/100, Loss: 0.2844\n",
            "Epoch 35/100, Loss: 0.0920\n",
            "Epoch 36/100, Loss: 0.2788\n",
            "Epoch 37/100, Loss: 0.3816\n",
            "Epoch 38/100, Loss: 0.3152\n",
            "Epoch 39/100, Loss: 0.1391\n",
            "Epoch 40/100, Loss: 0.0398\n",
            "Epoch 41/100, Loss: 0.0669\n",
            "Epoch 42/100, Loss: 0.6864\n",
            "Epoch 43/100, Loss: 0.1052\n",
            "Epoch 44/100, Loss: 0.0203\n",
            "Epoch 45/100, Loss: 0.3041\n",
            "Epoch 46/100, Loss: 0.1052\n",
            "Epoch 47/100, Loss: 0.3704\n",
            "Epoch 48/100, Loss: 0.2320\n",
            "Epoch 49/100, Loss: 0.5107\n",
            "Epoch 50/100, Loss: 0.1135\n",
            "Epoch 51/100, Loss: 0.0728\n",
            "Epoch 52/100, Loss: 0.0562\n",
            "Epoch 53/100, Loss: 0.0250\n",
            "Epoch 54/100, Loss: 0.0086\n",
            "Epoch 55/100, Loss: 0.3954\n",
            "Epoch 56/100, Loss: 0.4263\n",
            "Epoch 57/100, Loss: 0.0168\n",
            "Epoch 58/100, Loss: 0.0427\n",
            "Epoch 59/100, Loss: 0.0229\n",
            "Epoch 60/100, Loss: 0.0534\n",
            "Epoch 61/100, Loss: 0.0202\n",
            "Epoch 62/100, Loss: 0.2598\n",
            "Epoch 63/100, Loss: 0.0704\n",
            "Epoch 64/100, Loss: 0.0104\n",
            "Epoch 65/100, Loss: 0.1822\n",
            "Epoch 66/100, Loss: 0.3049\n",
            "Epoch 67/100, Loss: 0.1883\n",
            "Epoch 68/100, Loss: 0.4813\n",
            "Epoch 69/100, Loss: 0.1754\n",
            "Epoch 70/100, Loss: 0.1675\n",
            "Epoch 71/100, Loss: 0.2671\n",
            "Epoch 72/100, Loss: 0.1094\n",
            "Epoch 73/100, Loss: 0.0921\n",
            "Epoch 74/100, Loss: 0.2175\n",
            "Epoch 75/100, Loss: 0.1961\n",
            "Epoch 76/100, Loss: 0.3866\n",
            "Epoch 77/100, Loss: 0.2030\n",
            "Epoch 78/100, Loss: 0.3544\n",
            "Epoch 79/100, Loss: 0.4847\n",
            "Epoch 80/100, Loss: 0.2789\n",
            "Epoch 81/100, Loss: 0.0030\n",
            "Epoch 82/100, Loss: 0.3795\n",
            "Epoch 83/100, Loss: 0.0513\n",
            "Epoch 84/100, Loss: 0.0214\n",
            "Epoch 85/100, Loss: 0.1481\n",
            "Epoch 86/100, Loss: 0.3346\n",
            "Epoch 87/100, Loss: 0.1612\n",
            "Epoch 88/100, Loss: 0.1384\n",
            "Epoch 89/100, Loss: 0.1238\n",
            "Epoch 90/100, Loss: 0.5213\n",
            "Epoch 91/100, Loss: 0.0665\n",
            "Epoch 92/100, Loss: 0.2695\n",
            "Epoch 93/100, Loss: 0.5466\n",
            "Epoch 94/100, Loss: 0.0113\n",
            "Epoch 95/100, Loss: 0.0121\n",
            "Epoch 96/100, Loss: 0.1943\n",
            "Epoch 97/100, Loss: 0.3562\n",
            "Epoch 98/100, Loss: 0.1493\n",
            "Epoch 99/100, Loss: 0.0070\n",
            "Epoch 100/100, Loss: 0.1121\n"
          ]
        }
      ]
    },
    {
      "cell_type": "markdown",
      "source": [
        "Mixed precision training or full precision- can choose to implement gradient scaling or not"
      ],
      "metadata": {
        "id": "tjVBv1FotTI8"
      }
    },
    {
      "cell_type": "code",
      "source": [
        "import torch\n",
        "print(torch.device(\"cuda\" if torch.cuda.is_available() else \"cpu\"))"
      ],
      "metadata": {
        "colab": {
          "base_uri": "https://localhost:8080/"
        },
        "id": "IEUE0FpJLCJS",
        "outputId": "65f17e32-ad52-4769-f90c-e15e49da9b3a"
      },
      "execution_count": 13,
      "outputs": [
        {
          "output_type": "stream",
          "name": "stdout",
          "text": [
            "cpu\n"
          ]
        }
      ]
    },
    {
      "cell_type": "code",
      "source": [
        "import torch.cuda.amp as amp\n",
        "import torch\n",
        "\n",
        "# Training function\n",
        "def train_model_mixed(model, dataloader, epochs, learning_rate):\n",
        "    criterion = nn.CrossEntropyLoss()\n",
        "    optimizer = optim.Adam(model.parameters(), lr=learning_rate)\n",
        "\n",
        "    # Get the device\n",
        "    device = torch.device(\"cuda\" if torch.cuda.is_available() else \"cpu\")\n",
        "    # Move model to the correct device\n",
        "    model.to(device)\n",
        "\n",
        "    scaler = amp.GradScaler()\n",
        "\n",
        "    for epoch in range(epochs):\n",
        "        for inputs, labels in dataloader:\n",
        "            # Move inputs and labels to the correct device\n",
        "            inputs, labels = inputs.to(device), labels.to(device)\n",
        "\n",
        "            optimizer.zero_grad()\n",
        "\n",
        "            with amp.autocast():\n",
        "                outputs = model(inputs)\n",
        "                loss = criterion(outputs, labels)\n",
        "\n",
        "            scaler.scale(loss).backward()\n",
        "            scaler.step(optimizer)\n",
        "            scaler.update()\n",
        "\n",
        "        #  print statement for loss here\n",
        "        print(f'Epoch {epoch+1}/{epochs}, Loss: {loss.item():.4f}')"
      ],
      "metadata": {
        "id": "sJJc4wuWtYsl"
      },
      "execution_count": 14,
      "outputs": []
    },
    {
      "cell_type": "markdown",
      "source": [
        "Training model with mixed precision"
      ],
      "metadata": {
        "id": "JGVrXxRz8RRI"
      }
    },
    {
      "cell_type": "code",
      "source": [
        "print(\"Mixed-precision training\")\n",
        "model_mixed = SimpleNN(input_dim=2, **{k: config[k] for k in ['num_layers', 'nodes_per_layer', 'activation_function']})\n",
        "train_model_mixed(model_mixed, dataloader_train, config['epochs'], config['learning_rate'])\n",
        "\n"
      ],
      "metadata": {
        "colab": {
          "base_uri": "https://localhost:8080/"
        },
        "id": "jlhD0r3GzFW9",
        "outputId": "a84b496e-ac31-4f72-fcc3-b3d00add93d3"
      },
      "execution_count": 15,
      "outputs": [
        {
          "output_type": "stream",
          "name": "stdout",
          "text": [
            "Mixed-precision training\n"
          ]
        },
        {
          "output_type": "stream",
          "name": "stderr",
          "text": [
            "<ipython-input-14-310e1e9d7ce4>:14: FutureWarning: `torch.cuda.amp.GradScaler(args...)` is deprecated. Please use `torch.amp.GradScaler('cuda', args...)` instead.\n",
            "  scaler = amp.GradScaler()\n",
            "/usr/local/lib/python3.11/dist-packages/torch/amp/grad_scaler.py:132: UserWarning: torch.cuda.amp.GradScaler is enabled, but CUDA is not available.  Disabling.\n",
            "  warnings.warn(\n",
            "<ipython-input-14-310e1e9d7ce4>:23: FutureWarning: `torch.cuda.amp.autocast(args...)` is deprecated. Please use `torch.amp.autocast('cuda', args...)` instead.\n",
            "  with amp.autocast():\n",
            "/usr/local/lib/python3.11/dist-packages/torch/amp/autocast_mode.py:266: UserWarning: User provided device_type of 'cuda', but CUDA is not available. Disabling\n",
            "  warnings.warn(\n"
          ]
        },
        {
          "output_type": "stream",
          "name": "stdout",
          "text": [
            "Epoch 1/100, Loss: 0.5153\n",
            "Epoch 2/100, Loss: 0.5939\n",
            "Epoch 3/100, Loss: 0.3339\n",
            "Epoch 4/100, Loss: 0.4299\n",
            "Epoch 5/100, Loss: 0.3549\n",
            "Epoch 6/100, Loss: 0.8001\n",
            "Epoch 7/100, Loss: 0.2621\n",
            "Epoch 8/100, Loss: 0.0142\n",
            "Epoch 9/100, Loss: 0.3327\n",
            "Epoch 10/100, Loss: 0.4566\n",
            "Epoch 11/100, Loss: 0.0177\n",
            "Epoch 12/100, Loss: 0.0060\n",
            "Epoch 13/100, Loss: 0.0314\n",
            "Epoch 14/100, Loss: 0.0136\n",
            "Epoch 15/100, Loss: 0.0017\n",
            "Epoch 16/100, Loss: 0.0074\n",
            "Epoch 17/100, Loss: 0.0119\n",
            "Epoch 18/100, Loss: 0.4371\n",
            "Epoch 19/100, Loss: 0.0076\n",
            "Epoch 20/100, Loss: 0.0177\n",
            "Epoch 21/100, Loss: 0.0108\n",
            "Epoch 22/100, Loss: 0.0973\n",
            "Epoch 23/100, Loss: 0.0345\n",
            "Epoch 24/100, Loss: 0.0063\n",
            "Epoch 25/100, Loss: 0.0024\n",
            "Epoch 26/100, Loss: 0.0005\n",
            "Epoch 27/100, Loss: 0.0010\n",
            "Epoch 28/100, Loss: 0.0020\n",
            "Epoch 29/100, Loss: 0.0021\n",
            "Epoch 30/100, Loss: 0.0019\n",
            "Epoch 31/100, Loss: 0.0022\n",
            "Epoch 32/100, Loss: 0.0018\n",
            "Epoch 33/100, Loss: 0.0564\n",
            "Epoch 34/100, Loss: 0.0070\n",
            "Epoch 35/100, Loss: 0.0094\n",
            "Epoch 36/100, Loss: 0.1504\n",
            "Epoch 37/100, Loss: 0.0120\n",
            "Epoch 38/100, Loss: 0.0017\n",
            "Epoch 39/100, Loss: 0.0019\n",
            "Epoch 40/100, Loss: 0.0506\n",
            "Epoch 41/100, Loss: 0.0033\n",
            "Epoch 42/100, Loss: 0.0263\n",
            "Epoch 43/100, Loss: 0.0042\n",
            "Epoch 44/100, Loss: 0.0015\n",
            "Epoch 45/100, Loss: 0.0026\n",
            "Epoch 46/100, Loss: 0.0134\n",
            "Epoch 47/100, Loss: 0.0010\n",
            "Epoch 48/100, Loss: 0.0055\n",
            "Epoch 49/100, Loss: 0.0009\n",
            "Epoch 50/100, Loss: 0.0550\n",
            "Epoch 51/100, Loss: 0.0130\n",
            "Epoch 52/100, Loss: 0.0048\n",
            "Epoch 53/100, Loss: 0.0012\n",
            "Epoch 54/100, Loss: 0.0593\n",
            "Epoch 55/100, Loss: 0.0080\n",
            "Epoch 56/100, Loss: 0.0010\n",
            "Epoch 57/100, Loss: 0.1392\n",
            "Epoch 58/100, Loss: 0.0018\n",
            "Epoch 59/100, Loss: 0.2624\n",
            "Epoch 60/100, Loss: 0.0019\n",
            "Epoch 61/100, Loss: 0.0012\n",
            "Epoch 62/100, Loss: 0.0055\n",
            "Epoch 63/100, Loss: 0.0003\n",
            "Epoch 64/100, Loss: 0.0003\n",
            "Epoch 65/100, Loss: 0.0005\n",
            "Epoch 66/100, Loss: 0.8617\n",
            "Epoch 67/100, Loss: 0.0017\n",
            "Epoch 68/100, Loss: 0.0092\n",
            "Epoch 69/100, Loss: 0.0010\n",
            "Epoch 70/100, Loss: 0.0053\n",
            "Epoch 71/100, Loss: 0.0002\n",
            "Epoch 72/100, Loss: 0.0378\n",
            "Epoch 73/100, Loss: 0.0408\n",
            "Epoch 74/100, Loss: 0.0015\n",
            "Epoch 75/100, Loss: 0.0010\n",
            "Epoch 76/100, Loss: 0.0042\n",
            "Epoch 77/100, Loss: 0.0039\n",
            "Epoch 78/100, Loss: 0.2526\n",
            "Epoch 79/100, Loss: 0.0014\n",
            "Epoch 80/100, Loss: 0.0132\n",
            "Epoch 81/100, Loss: 0.0002\n",
            "Epoch 82/100, Loss: 0.0017\n",
            "Epoch 83/100, Loss: 0.0007\n",
            "Epoch 84/100, Loss: 0.0033\n",
            "Epoch 85/100, Loss: 0.0004\n",
            "Epoch 86/100, Loss: 0.0003\n",
            "Epoch 87/100, Loss: 0.0038\n",
            "Epoch 88/100, Loss: 0.0025\n",
            "Epoch 89/100, Loss: 0.0003\n",
            "Epoch 90/100, Loss: 0.0021\n",
            "Epoch 91/100, Loss: 0.0195\n",
            "Epoch 92/100, Loss: 0.0017\n",
            "Epoch 93/100, Loss: 0.0072\n",
            "Epoch 94/100, Loss: 0.0018\n",
            "Epoch 95/100, Loss: 0.0005\n",
            "Epoch 96/100, Loss: 0.0006\n",
            "Epoch 97/100, Loss: 0.0026\n",
            "Epoch 98/100, Loss: 0.0028\n",
            "Epoch 99/100, Loss: 0.0006\n",
            "Epoch 100/100, Loss: 0.0057\n"
          ]
        }
      ]
    },
    {
      "cell_type": "markdown",
      "source": [
        "Evaluates mixed and full precision models and tests them on a testing dataset to perform inference"
      ],
      "metadata": {
        "id": "9XKEmeIm8Bhi"
      }
    },
    {
      "cell_type": "code",
      "source": [
        "# Function to evaluate the model\n",
        "def evaluate_model(model, dataloader, device):\n",
        "    \"\"\"\n",
        "    Evaluates the trained model on a given dataset.\n",
        "\n",
        "    Args:\n",
        "        model (nn.Module): The trained PyTorch model.\n",
        "        dataloader (DataLoader): The DataLoader for the testing dataset.\n",
        "        device (torch.device): The device the model is on (e.g., 'cuda' or 'cpu').\n",
        "    \"\"\"\n",
        "    model.eval()  # Set the model to evaluation mode\n",
        "    correct = 0\n",
        "    total = 0\n",
        "    # inference here?\n",
        "    # Get the model's expected dtype by checking the dtype of one of its parameters\n",
        "    # Check the dtype of the first parameter in the network (assuming it's a nn.Linear layer)\n",
        "    model_dtype = next(model.network.parameters()).dtype\n",
        "\n",
        "\n",
        "    with torch.no_grad():  # Disable gradient calculations\n",
        "        for inputs, labels in dataloader:\n",
        "            inputs, labels = inputs.to(device), labels.to(device) # Move data to the correct device\n",
        "\n",
        "            # Cast inputs to the model's dtype if it's different\n",
        "            if inputs.dtype != model_dtype:\n",
        "                 inputs = inputs.to(model_dtype)\n",
        "\n",
        "            # Perform inference (forward pass)\n",
        "            outputs = model(inputs)\n",
        "\n",
        "            # Get the predicted class\n",
        "            _, predicted = torch.max(outputs.data, 1)\n",
        "\n",
        "            total += labels.size(0)\n",
        "            correct += (predicted == labels).sum().item()\n",
        "\n",
        "    accuracy = 100 * correct / total\n",
        "    print(f'Accuracy on the testing dataset: {accuracy:.2f}%')"
      ],
      "metadata": {
        "id": "3sq2SQRK7s_b"
      },
      "execution_count": 16,
      "outputs": []
    },
    {
      "cell_type": "markdown",
      "source": [
        "eval on train (overfit experiment) and test data"
      ],
      "metadata": {
        "id": "KEB1yGYVg5BQ"
      }
    },
    {
      "cell_type": "code",
      "source": [
        "# %%\n",
        "# Evaluating mixed precision and fp32 models on the testing dataset\n",
        "device = torch.device(\"cuda\" if torch.cuda.is_available() else \"cpu\")\n",
        "\n",
        "print(\"\\n--- Evaluation Results ---\")\n",
        "\n",
        "# --- Evaluate on Train Data (Overfit Experiment) ---\n",
        "print(\"\\nEvaluating on train data (overfit experiment):\")\n",
        "\n",
        "print(\"\\nEvaluating FP32 Model (Train Data):\")\n",
        "# Ensure model is on the correct device for evaluation\n",
        "model_fp32.to(device)\n",
        "evaluate_model(model_fp32, dataloader_train, device)\n",
        "\n",
        "print(\"\\nEvaluating Mixed Precision Model (Train Data):\")\n",
        "# Ensure model is on the correct device for evaluation\n",
        "model_mixed.to(device)\n",
        "evaluate_model(model_mixed, dataloader_train, device)\n",
        "\n",
        "\n",
        "# --- Evaluate on Test Data (Generalization) ---\n",
        "print(\"\\nEvaluating on test data:\")\n",
        "\n",
        "print(\"\\nEvaluating FP32 Model (Test Data):\")\n",
        "# Ensure model is on the correct device for evaluation\n",
        "model_fp32.to(device)\n",
        "evaluate_model(model_fp32, dataloader_test, device)\n",
        "\n",
        "print(\"\\nEvaluating Mixed Precision Model (Test Data):\")\n",
        "# Ensure model is on the correct device for evaluation\n",
        "model_mixed.to(device)\n",
        "evaluate_model(model_mixed, dataloader_test, device)\n",
        "\n",
        "print(\"\\nEvaluating FP32 Model in FP16 Inference Mode (Test Data):\")\n",
        "# Create a copy or cast the existing model to half precision for this specific evaluation\n",
        "# It's generally safer to cast a *copy* if you need the original FP32 model later,\n",
        "# but for evaluation purposes here, casting the existing one is fine if it's the last use.\n",
        "\n",
        "# IMPORTANT: Move to device *before* casting to half() if using GPU\n",
        "model_fp32_half_inference = model_fp32.to(device).half()\n",
        "\n",
        "# Note: The evaluate_model function will automatically cast inputs in the dataloader\n",
        "# to match the model's dtype within the no_grad() block.\n",
        "evaluate_model(model_fp32_half_inference, dataloader_test, device)\n",
        "\n",
        "\n",
        "print(\"\\nEvaluating Mixed Precision Model in FP16 Inference Mode (Test Data):\")\n",
        "# Create a copy or cast the existing model to half precision for this specific evaluation\n",
        "# It's generally safer to cast a *copy* if you need the original FP32 model later,\n",
        "# but for evaluation purposes here, casting the existing one is fine if it's the last use.\n",
        "\n",
        "# IMPORTANT: Move to device *before* casting to half() if using GPU\n",
        "model_mixed_half_inference = model_mixed.to(device).half()\n",
        "\n",
        "# Note: The evaluate_model function will automatically cast inputs in the dataloader\n",
        "# to match the model's dtype within the no_grad() block.\n",
        "evaluate_model(model_mixed_half_inference, dataloader_test, device)"
      ],
      "metadata": {
        "colab": {
          "base_uri": "https://localhost:8080/"
        },
        "id": "AR9Z4imkg5XG",
        "outputId": "1526f9bc-a957-4503-ecca-b15ce48e6482"
      },
      "execution_count": 17,
      "outputs": [
        {
          "output_type": "stream",
          "name": "stdout",
          "text": [
            "\n",
            "--- Evaluation Results ---\n",
            "\n",
            "Evaluating on train data (overfit experiment):\n",
            "\n",
            "Evaluating FP32 Model (Train Data):\n",
            "Accuracy on the testing dataset: 92.00%\n",
            "\n",
            "Evaluating Mixed Precision Model (Train Data):\n",
            "Accuracy on the testing dataset: 99.60%\n",
            "\n",
            "Evaluating on test data:\n",
            "\n",
            "Evaluating FP32 Model (Test Data):\n",
            "Accuracy on the testing dataset: 90.80%\n",
            "\n",
            "Evaluating Mixed Precision Model (Test Data):\n",
            "Accuracy on the testing dataset: 99.40%\n",
            "\n",
            "Evaluating FP32 Model in FP16 Inference Mode (Test Data):\n",
            "Accuracy on the testing dataset: 90.80%\n",
            "\n",
            "Evaluating Mixed Precision Model in FP16 Inference Mode (Test Data):\n",
            "Accuracy on the testing dataset: 99.50%\n"
          ]
        }
      ]
    }
  ]
}